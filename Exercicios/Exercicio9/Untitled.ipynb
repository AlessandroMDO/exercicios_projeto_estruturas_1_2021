{
 "cells": [
  {
   "cell_type": "code",
   "execution_count": 63,
   "id": "2b24d132-00bd-451b-a4fa-5ba4606a7df7",
   "metadata": {},
   "outputs": [],
   "source": [
    "import sympy as sp\n",
    "import numpy as np"
   ]
  },
  {
   "cell_type": "code",
   "execution_count": 64,
   "id": "ead2fd6a-c9c9-40e7-9ed2-b049656e42e8",
   "metadata": {},
   "outputs": [],
   "source": [
    "K = sp.zeros(8,8)\n",
    "\n",
    "K1, K2, K3, K4, K5, K6, K7 = sp.symbols('K_1 K_2 K_3 K_4 K_5 K_6 K_7')"
   ]
  },
  {
   "cell_type": "code",
   "execution_count": 65,
   "id": "dadea7e3-0369-4116-bed2-06acae996928",
   "metadata": {},
   "outputs": [],
   "source": [
    "for i in range(0,8):\n",
    "    for j in range(0,8):\n",
    "        K[i,j] = sp.Symbol('K_{a}{b}'.format(a=(i+1), b=(j+1)))"
   ]
  },
  {
   "cell_type": "code",
   "execution_count": 66,
   "id": "6e7221b8-47c0-4877-87e2-a5922aa229de",
   "metadata": {},
   "outputs": [],
   "source": [
    "K[0,0] = K1\n",
    "K[1,1] = K2\n",
    "K[2,2] = K1+K2+K3+K4\n",
    "K[3,3] = K3\n",
    "K[4,4] = K4+K5\n",
    "K[5,5] = K6\n",
    "K[6,6] = K5+K6+K7\n",
    "K[7,7] = K7"
   ]
  },
  {
   "cell_type": "code",
   "execution_count": 67,
   "id": "83fbfa4f-54fa-4087-b037-e3c0707fda47",
   "metadata": {},
   "outputs": [],
   "source": [
    "K[0,1] = K[1,0] = 0\n",
    "K[0,2] = K[2,0] = -K1\n",
    "K[0,3] = K[3,0] = 0\n",
    "K[0,4] = K[4,0] = 0\n",
    "K[0,5] = K[5,0] = 0\n",
    "K[0,6] = K[6,0] = 0\n",
    "K[0,7] = K[7,0] = 0"
   ]
  },
  {
   "cell_type": "code",
   "execution_count": 68,
   "id": "4cc96d12-ef3e-4d38-aaca-6294a3a74d98",
   "metadata": {},
   "outputs": [],
   "source": [
    "K[1,2] = K[2,1] = -K2\n",
    "K[1,3] = K[3,1] = 0\n",
    "K[1,4] = K[4,1] = 0\n",
    "K[1,5] = K[5,1] = 0\n",
    "K[1,6] = K[6,1] = 0\n",
    "K[1,7] = K[7,1] = 0"
   ]
  },
  {
   "cell_type": "code",
   "execution_count": 69,
   "id": "770e7b11-0a40-4f7f-b5aa-ee94da29390a",
   "metadata": {},
   "outputs": [],
   "source": [
    "K[2,3] = K[3,2] = -K3\n",
    "K[2,4] = K[4,2] = -K4\n",
    "K[2,5] = K[5,2] = 0\n",
    "K[2,6] = K[6,2] = 0\n",
    "K[2,7] = K[7,2] = 0"
   ]
  },
  {
   "cell_type": "code",
   "execution_count": 70,
   "id": "15fe8adf-819e-4b6d-a147-b1c6a4013761",
   "metadata": {},
   "outputs": [],
   "source": [
    "K[3,4] = K[4,3] = 0\n",
    "K[3,5] = K[5,3] = 0\n",
    "K[3,6] = K[6,3] = 0\n",
    "K[3,7] = K[7,3] = 0"
   ]
  },
  {
   "cell_type": "code",
   "execution_count": 71,
   "id": "bbb5d109-96fd-4eac-9531-94cc659cd89b",
   "metadata": {},
   "outputs": [],
   "source": [
    "K[4,5] = K[5,4] = 0\n",
    "K[4,6] = K[6,4] = -K5\n",
    "K[4,7] = K[7,4] = 0"
   ]
  },
  {
   "cell_type": "code",
   "execution_count": 72,
   "id": "36664c2b-f6b1-478b-adc9-ed4bba4c8ca2",
   "metadata": {},
   "outputs": [],
   "source": [
    "K[5,6] = K[6,5] = -K6\n",
    "K[5,7] = K[7,5] = 0"
   ]
  },
  {
   "cell_type": "code",
   "execution_count": 73,
   "id": "27201daa-4ebb-4fb9-a51f-6a7583d31571",
   "metadata": {},
   "outputs": [],
   "source": [
    "K[6,7] = K[7,6] = -K7"
   ]
  },
  {
   "cell_type": "code",
   "execution_count": 74,
   "id": "d3306926-a8ac-4373-99f2-8b776b1161bf",
   "metadata": {},
   "outputs": [
    {
     "data": {
      "text/latex": [
       "$\\displaystyle \\left[\\begin{matrix}K_{1} & 0 & - K_{1} & 0 & 0 & 0 & 0 & 0\\\\0 & K_{2} & - K_{2} & 0 & 0 & 0 & 0 & 0\\\\- K_{1} & - K_{2} & K_{1} + K_{2} + K_{3} + K_{4} & - K_{3} & - K_{4} & 0 & 0 & 0\\\\0 & 0 & - K_{3} & K_{3} & 0 & 0 & 0 & 0\\\\0 & 0 & - K_{4} & 0 & K_{4} + K_{5} & 0 & - K_{5} & 0\\\\0 & 0 & 0 & 0 & 0 & K_{6} & - K_{6} & 0\\\\0 & 0 & 0 & 0 & - K_{5} & - K_{6} & K_{5} + K_{6} + K_{7} & - K_{7}\\\\0 & 0 & 0 & 0 & 0 & 0 & - K_{7} & K_{7}\\end{matrix}\\right]$"
      ],
      "text/plain": [
       "Matrix([\n",
       "[ K_1,    0,                  -K_1,    0,         0,    0,               0,    0],\n",
       "[   0,  K_2,                  -K_2,    0,         0,    0,               0,    0],\n",
       "[-K_1, -K_2, K_1 + K_2 + K_3 + K_4, -K_3,      -K_4,    0,               0,    0],\n",
       "[   0,    0,                  -K_3,  K_3,         0,    0,               0,    0],\n",
       "[   0,    0,                  -K_4,    0, K_4 + K_5,    0,            -K_5,    0],\n",
       "[   0,    0,                     0,    0,         0,  K_6,            -K_6,    0],\n",
       "[   0,    0,                     0,    0,      -K_5, -K_6, K_5 + K_6 + K_7, -K_7],\n",
       "[   0,    0,                     0,    0,         0,    0,            -K_7,  K_7]])"
      ]
     },
     "execution_count": 74,
     "metadata": {},
     "output_type": "execute_result"
    }
   ],
   "source": [
    "K"
   ]
  }
 ],
 "metadata": {
  "kernelspec": {
   "display_name": "Python 3",
   "language": "python",
   "name": "python3"
  },
  "language_info": {
   "codemirror_mode": {
    "name": "ipython",
    "version": 3
   },
   "file_extension": ".py",
   "mimetype": "text/x-python",
   "name": "python",
   "nbconvert_exporter": "python",
   "pygments_lexer": "ipython3",
   "version": "3.8.8"
  }
 },
 "nbformat": 4,
 "nbformat_minor": 5
}
