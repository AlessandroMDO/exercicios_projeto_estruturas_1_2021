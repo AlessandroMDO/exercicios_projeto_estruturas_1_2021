{
 "cells": [
  {
   "cell_type": "markdown",
   "id": "3497d7aa-e80a-40a0-8a42-9cbd2a9a9831",
   "metadata": {},
   "source": [
    "Exercicio 6 - SAA0336\\\n",
    "Nome: Alessandro Melo de Oliveira\\\n",
    "Nº USP: 10788662"
   ]
  },
  {
   "cell_type": "code",
   "execution_count": 13,
   "id": "ab923eda-db00-4da0-87dc-1f3e15b7adaa",
   "metadata": {},
   "outputs": [],
   "source": [
    "import numpy as np\n",
    "#import pandas as pd\n",
    "import matplotlib.pyplot as plt\n",
    "import sympy as sp\n",
    "from sympy.plotting import plot\n",
    "from numpy.polynomial import Polynomial\n",
    "from scipy.integrate import quad"
   ]
  },
  {
   "cell_type": "code",
   "execution_count": 14,
   "id": "83f13c84-544f-4233-a0e3-4da9b0006504",
   "metadata": {},
   "outputs": [],
   "source": [
    "b = 2260.5/1000 #envergadura [m]\n",
    "S = (928554.75 / 1e6) # area da asa [m^2]\n",
    "\n",
    "K = 0\n",
    "\n",
    "Cn = 1.987258\n",
    "Cl_alpha_inf = Cn #aproximando o Cl pelo Cn calculado no método de stender\n",
    "\n",
    "alpha_max = np.deg2rad(15) # 15º graus máximo ângulo de ataque positivo\n",
    "\n",
    "V_2 = 29.5 # [m/s]\n",
    "\n",
    "pressao_dinamica = 0.5 * 1.225 * (V_2**2)"
   ]
  },
  {
   "cell_type": "code",
   "execution_count": 15,
   "id": "8a845150-79e2-4627-a6b1-5baaf0001d68",
   "metadata": {},
   "outputs": [],
   "source": [
    "A,B, x, y = sp.symbols('A,B, x, y')\n",
    "\n",
    "def corda_real(posicao, graph = False):\n",
    "    \n",
    "    x = sp.Symbol('x')\n",
    "\n",
    "    x1, y1 = 0.6, 0.525\n",
    "    x2, y2 = b, 0.214\n",
    "\n",
    "    coefficients = np.polyfit([x1,x2], [y1,y2], 1)\n",
    "\n",
    "    slope = coefficients[0]\n",
    "    intercept = coefficients[1]\n",
    "\n",
    "    exp1 = 0.525\n",
    "    exp2 = slope*x + intercept\n",
    "\n",
    "    Cg = sp.Piecewise((exp1, (x >= 0)  & (x <= 0.6)), ((exp2, (x > 0.6) & (x <= b))))\n",
    "    \n",
    "    if graph == True:\n",
    "        \n",
    "        fig_cg = plt.figure(figsize=(6,4))\n",
    "        range_cg = np.linspace(0,b,500)\n",
    "        plt.plot(range_cg, [Cg.subs(x,i) for i in range_cg])\n",
    "        plt.grid()\n",
    "        plt.xlabel(\"Posição da corda [m]\", fontsize = 12)\n",
    "        plt.ylabel(\"Corda [m]\", fontsize = 12)\n",
    "        plt.title(\"0.525 para 0 < y < 0.6 \\n 0.6373 - 0.1872y para 0.6 < y < 2.2605\", fontsize = 12)\n",
    "    \n",
    "    return Cg, Cg.subs({x:posicao})"
   ]
  },
  {
   "cell_type": "code",
   "execution_count": 28,
   "id": "afbe5087-d9ec-403b-9350-eb927e8617c0",
   "metadata": {},
   "outputs": [
    {
     "data": {
      "text/latex": [
       "$\\displaystyle \\begin{cases} 0.525 & \\text{for}\\: x \\geq 0 \\wedge x \\leq 0.6 \\\\0.637375790424571 - 0.187292984040951 x & \\text{for}\\: x \\leq 2.2605 \\wedge x > 0.6 \\end{cases}$"
      ],
      "text/plain": [
       "Piecewise((0.525, (x >= 0) & (x <= 0.6)), (0.637375790424571 - 0.187292984040951*x, (x <= 2.2605) & (x > 0.6)))"
      ]
     },
     "execution_count": 28,
     "metadata": {},
     "output_type": "execute_result"
    }
   ],
   "source": [
    "corda_real(0.6)[0]"
   ]
  },
  {
   "cell_type": "code",
   "execution_count": 16,
   "id": "e556da3a-a000-44aa-910a-48f9a941e9c1",
   "metadata": {},
   "outputs": [],
   "source": [
    "posicoes_analisadas = [0, 0.086, 0.386, 0.748, 1.04325, 1.33775, 1.63225, 1.89975, 2.14025, 2.2605]"
   ]
  },
  {
   "cell_type": "code",
   "execution_count": 17,
   "id": "4994ef99-5bee-4f54-99cd-2543a8bd54a1",
   "metadata": {},
   "outputs": [],
   "source": [
    "def c_barra_fun():\n",
    "    c_barra_sum = 0\n",
    "    for i in posicoes_analisadas:\n",
    "        c_barra_sum += corda_real(i)[1]\n",
    "    return c_barra_sum/len(posicoes_analisadas)\n",
    "\n",
    "c_barra = c_barra_fun()"
   ]
  },
  {
   "cell_type": "code",
   "execution_count": 30,
   "id": "d0adcae9-412f-4cd2-891d-b81601374f64",
   "metadata": {},
   "outputs": [
    {
     "data": {
      "text/latex": [
       "$\\displaystyle 0.3964842366757$"
      ],
      "text/plain": [
       "0.396484236675700"
      ]
     },
     "execution_count": 30,
     "metadata": {},
     "output_type": "execute_result"
    }
   ],
   "source": [
    "c_barra"
   ]
  },
  {
   "cell_type": "code",
   "execution_count": 18,
   "id": "53c3ce50-009d-418d-ba5c-8ecad5a1b724",
   "metadata": {},
   "outputs": [],
   "source": [
    "def dcl_alpha_inf_fun():\n",
    "    numerador = 0\n",
    "    denominador = c_barra\n",
    "    for i in range(0,len(posicoes_analisadas)):\n",
    "        numerador += Cl_alpha_inf * corda_real(posicoes_analisadas[i])[1]\n",
    "        \n",
    "    cl_alpha_barra = numerador/(denominador)\n",
    "\n",
    "    return float(cl_alpha_barra)\n",
    "\n",
    "cl_alpha_inf = dcl_alpha_inf_fun()"
   ]
  },
  {
   "cell_type": "code",
   "execution_count": 31,
   "id": "9b47d62f-18d5-45d1-9de1-bcf93b01d43c",
   "metadata": {},
   "outputs": [
    {
     "data": {
      "text/plain": [
       "19.87258"
      ]
     },
     "execution_count": 31,
     "metadata": {},
     "output_type": "execute_result"
    }
   ],
   "source": [
    "cl_alpha_inf"
   ]
  },
  {
   "cell_type": "code",
   "execution_count": 19,
   "id": "e77a5368-672d-4178-bbb6-63bddb88c340",
   "metadata": {},
   "outputs": [],
   "source": [
    "def dcl_dalpha_fun():\n",
    "    return (cl_alpha_inf / (1 + cl_alpha_inf * (S/(np.pi * (2*b)**2)) * (1+K)))\n",
    "\n",
    "dcl_dalpha = dcl_dalpha_fun()"
   ]
  },
  {
   "cell_type": "code",
   "execution_count": 20,
   "id": "b5b70929-1718-46b0-a1c3-894b45105581",
   "metadata": {},
   "outputs": [],
   "source": [
    "def dL_dy_fun():\n",
    "    return 0.5 * pressao_dinamica * dcl_dalpha * alpha_max * (corda_real(0)[0] + \n",
    "                                                               (4/sp.pi) * c_barra * sp.sqrt(1 - (2*x/(2*b))**2))\n",
    "\n",
    "dL_dy = dL_dy_fun()"
   ]
  },
  {
   "cell_type": "code",
   "execution_count": 37,
   "id": "d0a268bb-31bb-4270-96da-c269c3bc10fa",
   "metadata": {},
   "outputs": [
    {
     "data": {
      "text/latex": [
       "$\\displaystyle \\begin{cases} \\frac{1708.14690133247 \\sqrt{1 - 0.195700068314001 x^{2}}}{\\pi} + 565.455723232861 & \\text{for}\\: x \\geq 0 \\wedge x \\leq 0.6 \\\\- 201.725504280604 x + \\frac{1708.14690133247 \\sqrt{1 - 0.195700068314001 x^{2}}}{\\pi} + 686.491025801223 & \\text{for}\\: x \\leq 2.2605 \\wedge x > 0.6 \\end{cases}$"
      ],
      "text/plain": [
       "Piecewise((1708.14690133247*sqrt(1 - 0.195700068314001*x**2)/pi + 565.455723232861, (x >= 0) & (x <= 0.6)), (-201.725504280604*x + 1708.14690133247*sqrt(1 - 0.195700068314001*x**2)/pi + 686.491025801223, (x <= 2.2605) & (x > 0.6)))"
      ]
     },
     "execution_count": 37,
     "metadata": {},
     "output_type": "execute_result"
    }
   ],
   "source": [
    "sp.simplify(dL_dy)"
   ]
  },
  {
   "cell_type": "code",
   "execution_count": 21,
   "id": "37340c16-0503-48d5-a262-5e618f35295d",
   "metadata": {},
   "outputs": [],
   "source": [
    "range_envergadura = np.linspace(0,b,500,endpoint=True)\n",
    "dL_dy_plot = []\n",
    "    \n",
    "for i in range_envergadura:\n",
    "    dL_dy_plot.append((dL_dy.subs({x:i})).evalf())"
   ]
  },
  {
   "cell_type": "code",
   "execution_count": 22,
   "id": "9a543658-de2e-4e25-926e-8171275302a6",
   "metadata": {},
   "outputs": [],
   "source": [
    "def poly_shrek_fun():\n",
    "    \n",
    "    x = np.asarray(range_envergadura[:-1], dtype=np.float32)\n",
    "    y = np.asarray(dL_dy_plot[:-1], dtype=np.float32)\n",
    "    \n",
    "    poly = Polynomial.fit(x,y,deg = 15)\n",
    "    \n",
    "    return poly\n",
    "    \n",
    "poly_shrenk = poly_shrek_fun()"
   ]
  },
  {
   "cell_type": "code",
   "execution_count": 23,
   "id": "49fd9088-d3e7-4ead-adb2-736a72514058",
   "metadata": {},
   "outputs": [],
   "source": [
    "distancias = [0, 172, 600, 896, 1190.50, 1485, 1779.5, 2020, 2260.5]\n",
    "distancias = [i/1000 for i in distancias]"
   ]
  },
  {
   "cell_type": "code",
   "execution_count": 38,
   "id": "82fbfea6-1b4b-4e4a-86c5-6a7a183cca9f",
   "metadata": {},
   "outputs": [],
   "source": [
    "Li_list_stender = [47.70202415601447,\n",
    " 165.97807888355433,\n",
    " 196.49904026930835,\n",
    " 148.51200210963472,\n",
    " 133.77156515971186,\n",
    " 117.30670740896011,\n",
    " 89.48003123012053,\n",
    " 62.327264865858474,\n",
    " 20.05580268030824]"
   ]
  },
  {
   "cell_type": "code",
   "execution_count": 53,
   "id": "185f28e6-92dd-4674-9ecc-7b321ae321b5",
   "metadata": {},
   "outputs": [
    {
     "data": {
      "image/png": "[encoded data removed]",
      "text/plain": [
       "<Figure size 432x288 with 1 Axes>"
      ]
     },
     "metadata": {
      "needs_background": "light"
     },
     "output_type": "display_data"
    }
   ],
   "source": [
    "def lift_per_nerv(graph = False):\n",
    "    Li_list = []\n",
    "    dx_list = posicoes_analisadas\n",
    "    dx_list_2 = distancias\n",
    "    \n",
    "    for i in range(0, len(dx_list) - 1):\n",
    "        a = dx_list[i]\n",
    "        b = dx_list[i+1]\n",
    "        \n",
    "        Li = quad(poly_shrenk, a,b)[0]\n",
    "        Li_list.append(Li/2)\n",
    "        \n",
    "        \n",
    "    if graph == True:\n",
    "        plt.bar([i + 0.03 for i in dx_list_2], Li_list, width=0.05, alpha = 1, label = \"Schenk\")\n",
    "        plt.bar(dx_list_2, Li_list_stender, width=0.05, alpha = 1, label = \"Stender\", lw = 1)\n",
    "        plt.grid()\n",
    "        plt.xlabel(\"Posição da Corda [m]\", fontsize = 12)\n",
    "        plt.ylabel(\"Lift em cada nervura [N]\", fontsize = 12)\n",
    "        plt.legend()\n",
    "        plt.tight_layout()\n",
    "        \n",
    "    #return Li_list\n",
    "\n",
    "lift_per_nerv(True)"
   ]
  }
 ],
 "metadata": {
  "kernelspec": {
   "display_name": "Python 3",
   "language": "python",
   "name": "python3"
  },
  "language_info": {
   "codemirror_mode": {
    "name": "ipython",
    "version": 3
   },
   "file_extension": ".py",
   "mimetype": "text/x-python",
   "name": "python",
   "nbconvert_exporter": "python",
   "pygments_lexer": "ipython3",
   "version": "3.8.8"
  }
 },
 "nbformat": 4,
 "nbformat_minor": 5
}
