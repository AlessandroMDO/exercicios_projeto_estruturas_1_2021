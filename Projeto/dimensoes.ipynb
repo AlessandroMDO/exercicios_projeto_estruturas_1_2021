{
 "cells": [
  {
   "cell_type": "markdown",
   "id": "4d2253f6-9bb2-4602-bc0f-d823348d2647",
   "metadata": {},
   "source": [
    "##  DIMENSOES E DADOS DE CARGA DO CAIXÃO ANALISADO "
   ]
  },
  {
   "cell_type": "code",
   "execution_count": 1,
   "id": "260fd4c9-91e1-4b7d-b18b-e3dc921e8242",
   "metadata": {},
   "outputs": [],
   "source": [
    "# ---------- Número USP e Delta ----------\n",
    "A = 62\n",
    "delta = 0.004 * A + 0.8"
   ]
  },
  {
   "cell_type": "code",
   "execution_count": 24,
   "id": "5dc3affc-8c14-4ea0-91b0-f501ce2557ef",
   "metadata": {},
   "outputs": [
    {
     "data": {
      "text/plain": [
       "[419.2, -314.4, 15.72]"
      ]
     },
     "execution_count": 24,
     "metadata": {},
     "output_type": "execute_result"
    }
   ],
   "source": [
    "[round(delta*i,5) for i in [400,-300,15]]"
   ]
  },
  {
   "cell_type": "code",
   "execution_count": 2,
   "id": "15461169-0ad7-4cc6-b2a6-a4a1fa36c847",
   "metadata": {},
   "outputs": [],
   "source": [
    "#---------- Dimensoes Caixão ----------\n",
    "C = 600 * delta # [mm]\n",
    "L = 300 * delta # [mm]\n",
    "H1 = 150 * delta # [mm]\n",
    "H2 = 120 * delta # [mm]\n",
    "\n",
    "#Perfil 1\n",
    "W_1 = 15 * delta # [mm]\n",
    "H_1 = 15 * delta # [mm]\n",
    "t_1 = 1 * delta # [mm]\n",
    "W1_1 = 5 * delta # [mm]\n",
    "\n",
    "#Perfil 2\n",
    "W_2 = 15 * delta # [mm]\n",
    "H_2 = 10 * delta # [mm]\n",
    "t1_2 = 1 * delta # [mm]\n",
    "t2_2 = 1 * delta # [mm]"
   ]
  },
  {
   "cell_type": "code",
   "execution_count": 5,
   "id": "a6504942-6db9-417a-b877-91f21dc5440b",
   "metadata": {},
   "outputs": [],
   "source": [
    "# ---------- Materiais ----------\n",
    "\n",
    "# Material 1 - Al 7475-T6 \n",
    "# Usado para os perfis\n",
    "\n",
    "E_1 = 7.2 * 10**(10) #[N/m]\n",
    "nu_1 = 0.32\n",
    "\n",
    "\n",
    "# Material 2 - Al 2024-T3\n",
    "# Usado para revestimento, alma da longarina e alma da nervura\n",
    "revestimento = 1.5 * delta # [mm]\n",
    "alma_longarina = 1.5 * delta # [mm]\n",
    "alma_nervura = 1.5 * delta # [mm]\n",
    "\n",
    "E_2 = 6.9 * 10**(10) #[N/m]\n",
    "nu_2 = 0.33 "
   ]
  },
  {
   "cell_type": "code",
   "execution_count": 4,
   "id": "8cd7045e-b553-432c-bbe9-bd15aa0b4705",
   "metadata": {},
   "outputs": [],
   "source": [
    "#---------- Dados de Carga ----------\n",
    "W_bruto = 4003.4 # [N]\n",
    "nz_max = 0\n",
    "W_semi_asa = 1000\n",
    "F_lim = 91000 - (nz_max * W_semi_asa) # [N]\n",
    "\n",
    "F1 = 0.75 * F_lim # [N]\n",
    "F2 = 0.25 * F_lim # [N]\n",
    "F3 = 0.1 * F_lim # [N]\n",
    "F4 = 0.15 * F_lim # [N]"
   ]
  }
 ],
 "metadata": {
  "kernelspec": {
   "display_name": "Python 3",
   "language": "python",
   "name": "python3"
  },
  "language_info": {
   "codemirror_mode": {
    "name": "ipython",
    "version": 3
   },
   "file_extension": ".py",
   "mimetype": "text/x-python",
   "name": "python",
   "nbconvert_exporter": "python",
   "pygments_lexer": "ipython3",
   "version": "3.8.8"
  }
 },
 "nbformat": 4,
 "nbformat_minor": 5
}
